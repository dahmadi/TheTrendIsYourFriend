{
 "cells": [
  {
   "cell_type": "code",
   "execution_count": 1,
   "id": "1e449bed-a4c0-4a63-9294-5fef91178899",
   "metadata": {},
   "outputs": [],
   "source": [
    "#Import needed libraries \n",
    "import pandas as pd \n",
    "import os\n",
    "from datetime import timedelta\n",
    "from dotenv import load_dotenv\n",
    "import numpy as np \n",
    "from scipy.signal import argrelextrema\n",
    "import alpaca_trade_api as tradeapi "
   ]
  },
  {
   "cell_type": "code",
   "execution_count": null,
   "id": "6cb0f2a2-ae3f-4148-bdb9-9e9ee8d62057",
   "metadata": {},
   "outputs": [],
   "source": [
    "# Load .env environment variables\n",
    "load_dotenv()\n",
    "\n",
    "# Set Alpaca API key and secret\n",
    "alpaca_api_key = os.getenv(\"ALPACA_API_KEY\")\n",
    "alpaca_secret_key = os.getenv(\"ALPACA_SECRET_KEY\")\n",
    "\n",
    "api = tradeapi.REST(\n",
    "    alpaca_api_key,\n",
    "    alpaca_secret_key,\n",
    "    api_version='v2')"
   ]
  }
 ],
 "metadata": {
  "kernelspec": {
   "display_name": "Python 3 (ipykernel)",
   "language": "python",
   "name": "python3"
  },
  "language_info": {
   "codemirror_mode": {
    "name": "ipython",
    "version": 3
   },
   "file_extension": ".py",
   "mimetype": "text/x-python",
   "name": "python",
   "nbconvert_exporter": "python",
   "pygments_lexer": "ipython3",
   "version": "3.9.18"
  }
 },
 "nbformat": 4,
 "nbformat_minor": 5
}
