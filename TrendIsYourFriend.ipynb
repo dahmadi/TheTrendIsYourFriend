{
 "cells": [
  {
   "cell_type": "code",
   "execution_count": 3,
   "metadata": {},
   "outputs": [
    {
     "ename": "ModuleNotFoundError",
     "evalue": "No module named 'alpaca_trade_api'",
     "output_type": "error",
     "traceback": [
      "\u001b[0;31m---------------------------------------------------------------------------\u001b[0m",
      "\u001b[0;31mModuleNotFoundError\u001b[0m                       Traceback (most recent call last)",
      "\u001b[1;32m/Users/ebrown/Desktop/Homework 2/TheTrendIsYourFriend/TrendIsYourFriend.ipynb Cell 1\u001b[0m line \u001b[0;36m9\n\u001b[1;32m      <a href='vscode-notebook-cell:/Users/ebrown/Desktop/Homework%202/TheTrendIsYourFriend/TrendIsYourFriend.ipynb#W0sZmlsZQ%3D%3D?line=6'>7</a>\u001b[0m \u001b[39mimport\u001b[39;00m \u001b[39mrequests\u001b[39;00m\n\u001b[1;32m      <a href='vscode-notebook-cell:/Users/ebrown/Desktop/Homework%202/TheTrendIsYourFriend/TrendIsYourFriend.ipynb#W0sZmlsZQ%3D%3D?line=7'>8</a>\u001b[0m \u001b[39mimport\u001b[39;00m \u001b[39mnumpy\u001b[39;00m \u001b[39mas\u001b[39;00m \u001b[39mnp\u001b[39;00m\n\u001b[0;32m----> <a href='vscode-notebook-cell:/Users/ebrown/Desktop/Homework%202/TheTrendIsYourFriend/TrendIsYourFriend.ipynb#W0sZmlsZQ%3D%3D?line=8'>9</a>\u001b[0m \u001b[39mimport\u001b[39;00m \u001b[39malpaca_trade_api\u001b[39;00m \u001b[39mas\u001b[39;00m \u001b[39mtradeapi\u001b[39;00m\n\u001b[1;32m     <a href='vscode-notebook-cell:/Users/ebrown/Desktop/Homework%202/TheTrendIsYourFriend/TrendIsYourFriend.ipynb#W0sZmlsZQ%3D%3D?line=9'>10</a>\u001b[0m \u001b[39mfrom\u001b[39;00m \u001b[39mdotenv\u001b[39;00m \u001b[39mimport\u001b[39;00m load_dotenv\n\u001b[1;32m     <a href='vscode-notebook-cell:/Users/ebrown/Desktop/Homework%202/TheTrendIsYourFriend/TrendIsYourFriend.ipynb#W0sZmlsZQ%3D%3D?line=10'>11</a>\u001b[0m \u001b[39mfrom\u001b[39;00m \u001b[39mdatetime\u001b[39;00m \u001b[39mimport\u001b[39;00m datetime\n",
      "\u001b[0;31mModuleNotFoundError\u001b[0m: No module named 'alpaca_trade_api'"
     ]
    }
   ],
   "source": [
    "# Import Libraries and Dependencies\n",
    "\n",
    "import os\n",
    "import pandas as pd\n",
    "import hvplot.pandas\n",
    "import hvplot\n",
    "import requests\n",
    "import numpy as np\n",
    "import alpaca_trade_api as tradeapi\n",
    "from dotenv import load_dotenv\n",
    "from datetime import datetime\n",
    "from itertools import islice\n",
    "import warnings\n",
    "\n",
    "# Ignore any non-critical future warnings\n",
    "\n",
    "warnings.filterwarnings(\"ignore\", category=FutureWarning)"
   ]
  },
  {
   "cell_type": "code",
   "execution_count": null,
   "id": "51f26bab",
   "metadata": {},
   "outputs": [],
   "source": [
    "# Load .env file\n",
    "\n",
    "load_dotenv()"
   ]
  },
  {
   "cell_type": "code",
   "execution_count": null,
   "id": "0412c5b5",
   "metadata": {},
   "outputs": [],
   "source": [
    "# Set Alpaca API key and secret passwords\n",
    "\n",
    "alpaca_api_key = os.getenv(\"ALPACA_API_KEY\")\n",
    "alpaca_secret_key = os.getenv(\"ALPACA_SECRET_KEY\")"
   ]
  },
  {
   "cell_type": "code",
   "execution_count": null,
   "id": "1f1506da",
   "metadata": {},
   "outputs": [],
   "source": [
    "# Initiate REST API\n",
    "\n",
    "api = tradeapi.REST(\n",
    "    alpaca_api_key,\n",
    "    alpaca_secret_key,\n",
    "    api_version = \"v2\"\n",
    ")"
   ]
  },
  {
   "cell_type": "code",
   "execution_count": null,
   "id": "8963f676",
   "metadata": {},
   "outputs": [],
   "source": [
    "# Establish time frame (5 minute)\n",
    "\n",
    "time_frame = \"5min\"\n",
    "\n",
    "# Identify what start date to begin data analysis\n",
    "\n",
    "start_date = pd.Timestamp(\"2016-01-01\", tz=\"America/New_York\").isoformat()\n",
    "\n",
    "# Identify what end date to finalize data analysis\n",
    "\n",
    "end_date = pd.Timestamp(\"2020-01-01\", tz=\"America/New_York\").isoformat()"
   ]
  },
  {
   "cell_type": "code",
   "execution_count": null,
   "id": "4933411b",
   "metadata": {},
   "outputs": [],
   "source": [
    "# Call stock data from identified period of time\n",
    "\n",
    "stock_data = api.get_bars(\n",
    "    stock_symbol, \n",
    "    time_frame, \n",
    "    start = start_date, \n",
    "    end = end_date\n",
    ").df"
   ]
  },
  {
   "cell_type": "code",
   "execution_count": null,
   "id": "2796fd91",
   "metadata": {},
   "outputs": [],
   "source": [
    "# Displays the information pulled for working through code\n",
    "\n",
    "stock_data.info()\n",
    "display(stock_data.head())\n",
    "display(stock_data.tail())\n",
    "\n"
   ]
  }
 ],
 "metadata": {
  "kernelspec": {
   "display_name": "machine_learning",
   "language": "python",
   "name": "python3"
  },
  "language_info": {
   "codemirror_mode": {
    "name": "ipython",
    "version": 3
   },
   "file_extension": ".py",
   "mimetype": "text/x-python",
   "name": "python",
   "nbconvert_exporter": "python",
   "pygments_lexer": "ipython3",
   "version": "3.10.13"
  }
 },
 "nbformat": 4,
 "nbformat_minor": 5
}
