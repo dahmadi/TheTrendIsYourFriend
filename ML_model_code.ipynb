{
 "cells": [
  {
   "cell_type": "code",
   "execution_count": null,
   "metadata": {},
   "outputs": [],
   "source": [
    "from keras.datasets import imdb\n",
    "from keras.layers import LSTM, Dense, Embedding\n",
    "from keras.model import Sequential\n",
    "from keras.preprocessing import sequence\n",
    "from sklearn.preprocessing import MinMaxScaler"
   ]
  },
  {
   "cell_type": "code",
   "execution_count": null,
   "metadata": {},
   "outputs": [],
   "source": [
    "X = master_df[numerical_columns].values\n",
    "y = master_df[\"long_short_target\"].values\n",
    "\n",
    "# the following code groups the data by day and sets up for the models.\n",
    "# convert targets to 0 and 1\n",
    "master_df[\"target\"] = master_df[\"target\"].map({-1:0,1:1})\n",
    "\n",
    "#groupby day and keep 5 minute increments\n",
    "grouped_df = master_df.groupby(master_df[\"timestamp\"].dt.date).apply(lambda x:x).reset_index(drop=True)\n",
    "\n",
    "# prepare input data\n",
    "X = grouped_df[numerical_columns].values\n",
    "y = grouped_df[\"target\"].values\n",
    "\n",
    "# split into test and train\n",
    "\n",
    "X_train, X_test, y_train, y_test = train_test_split(X,y,test_size=0.3, shuffle=False, random_state=42)\n",
    "\n",
    "# standardize data, train and test\n",
    "scaler = StandardScaler()\n",
    "X_train_scaled = scaler.fit_transform(X_train)\n",
    "X_test_scaled = scaler.fit_transform(X_test)\n",
    "\n",
    "# Build LSTM model\n",
    "model = Sequential()\n",
    "model.add(LSTM(128, input_shape=(X.shape[1],)))\n",
    "model.add(Dense(1,activation=\"sigmoid\"))\n",
    "model.compile(loss=\"binary_crossentropy\", optimizer=\"adam\", metrics=[\"accuracy\"])\n",
    "\n",
    "#Train the model\n",
    "model.fit(X_train, y_train, batch_size=batch_size,epochs = 15, validation_split=0.3)\n",
    "\n",
    "# Evaluate the model\n",
    "score, acc = model.evaluate(X_test,y_test,batch_size=batch_size)\n",
    "print(\"test score\", score)\n",
    "print(\"test accuracy\" acc)\n"
   ]
  },
  {
   "cell_type": "code",
   "execution_count": null,
   "metadata": {},
   "outputs": [],
   "source": [
    "# this portion does not train and test... go to next cell for more complete\n",
    "model = Sequential()\n",
    "model.add(LSTM(128, input_shape=(X.shape[1],))\n",
    "model.add(Dense(1, activation=\"sigmoid\"))\n",
    "\n",
    "model.compile(loss=\"binary_crossentropy\", oiptimzer=\"adam\", metric=[\"accuracy\"])\n",
    "model.fit(X,y, batch_size=batch_size, epochs=15, validation_split=0.2)"
   ]
  },
  {
   "cell_type": "code",
   "execution_count": null,
   "metadata": {},
   "outputs": [],
   "source": []
  },
  {
   "cell_type": "code",
   "execution_count": null,
   "metadata": {},
   "outputs": [],
   "source": [
    "X_train, X_test, y_train, t_test = train_test_split(X,y,test=0.3, shuffle=False, random_state=42)"
   ]
  }
 ],
 "metadata": {
  "language_info": {
   "name": "python"
  }
 },
 "nbformat": 4,
 "nbformat_minor": 2
}
